{
 "cells": [
  {
   "cell_type": "code",
   "execution_count": null,
   "metadata": {},
   "outputs": [],
   "source": [
    "from ultralytics import YOLO\n",
    "import cv2\n",
    "\n",
    "model = YOLO(\"yolov8n.pt\")  # load a pretrained model (recommended for training)\n",
    "\n",
    "# 使用模型对测试图像进行推理\n",
    "test_image_path = \"test_img/15_ball.bmp\"  # 替换为你的测试图像路径\n",
    "results = model(test_image_path)\n",
    "\n",
    "# 如果想要查看检测结果的具体信息，可以打印以下内容\n",
    "for result in results:\n",
    "    # 打印检测框的坐标、置信度和类别\n",
    "    for box in result.boxes.data:  # result.boxes.data包含检测到的框\n",
    "        x1, y1, x2, y2, conf, cls = box.tolist()\n",
    "        print(f\"检测框: ({x1}, {y1}), ({x2}, {y2}), 置信度: {conf}, 类别: {int(cls)}\")\n",
    "        # 将检测框绘制到原始图像上\n",
    "        img = cv2.imread(test_image_path)\n",
    "        cv2.rectangle(img, (int(x1), int(y1)), (int(x2), int(y2)), (0, 255, 0), 2)  # 绿色矩形框\n",
    "        label = f\"Class: {int(cls)}, Conf: {conf:.2f}\"\n",
    "        cv2.putText(img, label, (int(x1), int(y1) - 10), cv2.FONT_HERSHEY_SIMPLEX, 0.5, (0, 255, 0), 2)\n",
    "\n",
    "    # 显示带有检测框的图像\n",
    "    cv2.imshow(\"YOLO Detection\", img)\n",
    "    cv2.waitKey(0)  # 按任意键关闭窗口\n",
    "    cv2.destroyAllWindows()"
   ]
  }
 ],
 "metadata": {
  "language_info": {
   "name": "python"
  }
 },
 "nbformat": 4,
 "nbformat_minor": 2
}
